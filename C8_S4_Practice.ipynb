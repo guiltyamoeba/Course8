{
 "cells": [
  {
   "cell_type": "code",
   "execution_count": 1,
   "metadata": {
    "colab": {
     "base_uri": "https://localhost:8080/"
    },
    "id": "KOKJr3MO8CRB",
    "outputId": "6881b4af-7b7e-45b4-d0ba-ee135f35a83f"
   },
   "outputs": [
    {
     "name": "stdout",
     "output_type": "stream",
     "text": [
      "Sample Mean = 79.16666666666667\n",
      "Sample Standard Deviation = 13.862419221285535\n",
      "Sample Size = 6\n"
     ]
    }
   ],
   "source": [
    "#Task1\n",
    "#null and alternate hypothesis\n",
    "#H0:The mean score for the class test is less than or equal to 71 (mue ≤ 71).\n",
    "#H₁: The mean score for the class test is greater than 71 (mue > 71).\n",
    "\n",
    "import statistics as st\n",
    "\n",
    "sample_data=[61,93,75,67,84,95]\n",
    "s_mean=st.mean(sample_data)\n",
    "s_sd=st.stdev(sample_data)\n",
    "n=len(sample_data)\n",
    "print('Sample Mean = '+str(s_mean))\n",
    "print('Sample Standard Deviation = '+str(s_sd))\n",
    "print('Sample Size = '+str(n))\n"
   ]
  },
  {
   "cell_type": "code",
   "execution_count": 3,
   "metadata": {
    "id": "3Z-Mphqn_NEC"
   },
   "outputs": [],
   "source": [
    "#appropriate statical test\n",
    "p_mean = 71  #Population Mean\n",
    "s_mean =  79.167 #  Sample Mean\n",
    "s_sd = 13.8625 #  Sample Standard Deviation\n",
    "n = 6 # Sample Size\n",
    "dof = n-1 # Degrees of Freedom\n",
    "#We will test hypothesis about a population mean using the t-statistic (standard deviation of population is unknown)."
   ]
  },
  {
   "cell_type": "code",
   "execution_count": 5,
   "metadata": {
    "id": "a8EnP-Ax_kxQ"
   },
   "outputs": [],
   "source": [
    "alpha = 0.1 # Significance level"
   ]
  },
  {
   "cell_type": "code",
   "execution_count": 7,
   "metadata": {
    "id": "s9NxCRFqAAJZ"
   },
   "outputs": [],
   "source": [
    "#decision rule:\n",
    "#i. If p_value < alpha : Rejection of Null Hypothesis (H0)\n",
    "#ii. If -t-critical > t-statistic > +t-critical : Rejection of Null Hypothesis(H0)"
   ]
  },
  {
   "cell_type": "code",
   "execution_count": 9,
   "metadata": {
    "colab": {
     "base_uri": "https://localhost:8080/"
    },
    "id": "_b4EFqFzANrs",
    "outputId": "ca1b93a5-8f56-4a1e-a351-588f59e9d674"
   },
   "outputs": [
    {
     "name": "stdout",
     "output_type": "stream",
     "text": [
      "The t-statistic is  1.4431006477410435\n",
      "The p_value is  0.10429171118389668\n",
      "The t-critical value is -1.4758840488558214\n"
     ]
    }
   ],
   "source": [
    "import math\n",
    "from scipy.stats import t\n",
    "\n",
    "t_statistic = (s_mean - p_mean) / (s_sd/math.sqrt(n))\n",
    "print(\"The t-statistic is \", t_statistic)\n",
    "\n",
    "p_value=t.sf(abs(t_statistic),dof)\n",
    "print(\"The p_value is \", p_value)\n",
    "\n",
    "t_critical = t.ppf(alpha, dof)\n",
    "print(\"The t-critical value is \"+str(t_critical))\n"
   ]
  },
  {
   "cell_type": "code",
   "execution_count": 13,
   "metadata": {
    "id": "VKQXNqaMAYh9"
   },
   "outputs": [
    {
     "data": {
      "text/plain": [
       "'1). Sample size less than 30\\n2). The sample mean does not follow a normal distribution but a T distribution\\n3).The student scores analysis  decides to rejectt the null hypothesis. There is The mean score for the class test is less than or equal to 71 (mue <= 71).'"
      ]
     },
     "execution_count": 13,
     "metadata": {},
     "output_type": "execute_result"
    }
   ],
   "source": [
    "#p_value <alpha (0.2>0.1)\n",
    "#t-critical < t-statistic\n",
    "#business conclusion:\n",
    "#Assumption:\n",
    "'''1). Sample size less than 30\n",
    "2). The sample mean does not follow a normal distribution but a T distribution\n",
    "3).The student scores analysis  decides to rejectt the null hypothesis. There is The mean score for the class test is less than or equal to 71 (mue <= 71).'''"
   ]
  },
  {
   "cell_type": "code",
   "execution_count": 15,
   "metadata": {
    "colab": {
     "base_uri": "https://localhost:8080/",
     "height": 430
    },
    "id": "K1dg7_MoBcJz",
    "outputId": "3e34d633-d026-4750-bccc-171afad695f1"
   },
   "outputs": [
    {
     "data": {
      "image/png": "[encoded data removed]",
      "text/plain": [
       "<Figure size 640x480 with 1 Axes>"
      ]
     },
     "metadata": {},
     "output_type": "display_data"
    }
   ],
   "source": [
    "import matplotlib.pyplot as plt\n",
    "from scipy.stats import t\n",
    "import numpy as np\n",
    "\n",
    "s_mean = 79.167   #  Sample Mean\n",
    "s_sd =13.8625  #  Sample Standard Deviation\n",
    "upper=s_mean+4*s_sd\n",
    "lower=s_mean-4*s_sd\n",
    "x=np.arange(-4,4,.05)\n",
    "\n",
    "tvals2=t.pdf(x,2)\n",
    "tvals4=t.pdf(x,4)\n",
    "tvals8=t.pdf(x,8)\n",
    "tvals11=t.pdf(x,11)\n",
    "tvals17=t.pdf(x,17)\n",
    "tvals30=t.pdf(x,30)\n",
    "\n",
    "plt.plot(x,tvals17,color='brown')\n",
    "plt.legend(['df=17'])\n",
    "#plt.plot(x,tvals2,x,tvals8, x,tvals30, x, tvals4)\n",
    "#plt.legend(['df=2','df=4','df=8','df=30'])\n",
    "plt.show()"
   ]
  },
  {
   "cell_type": "code",
   "execution_count": 17,
   "metadata": {
    "id": "AD31sFBUC9CG"
   },
   "outputs": [
    {
     "data": {
      "text/plain": [
       "'Null Hypothesis (H0): The average scores of Batch-I and Batch-II are equal.\\nAlternate Hypothesis (Ha): The average scores of Batch-I and Batch-II are not equal.'"
      ]
     },
     "execution_count": 17,
     "metadata": {},
     "output_type": "execute_result"
    }
   ],
   "source": [
    "#Task2:\n",
    "#null and alternate hypothesis\n",
    "'''Null Hypothesis (H0): The average scores of Batch-I and Batch-II are equal.\n",
    "Alternate Hypothesis (Ha): The average scores of Batch-I and Batch-II are not equal.'''\n"
   ]
  },
  {
   "cell_type": "code",
   "execution_count": 19,
   "metadata": {
    "id": "Bfm7GGVBGXgk"
   },
   "outputs": [
    {
     "data": {
      "text/plain": [
       "'i. If p_value < alpha : Rejection of Null Hypothesis (H0)\\nii. If -t-critical > t-statistic > +t-critical : Rejection of Null Hypothesis(H0)'"
      ]
     },
     "execution_count": 19,
     "metadata": {},
     "output_type": "execute_result"
    }
   ],
   "source": [
    "alpha = 0.1\n",
    "#This test is a two-tailed test, each of the two rejection regions has an area of 0.05\n",
    "#Establish rule:\n",
    "'''i. If p_value < alpha : Rejection of Null Hypothesis (H0)\n",
    "ii. If -t-critical > t-statistic > +t-critical : Rejection of Null Hypothesis(H0)'''\n"
   ]
  },
  {
   "cell_type": "code",
   "execution_count": 21,
   "metadata": {
    "colab": {
     "base_uri": "https://localhost:8080/"
    },
    "id": "hsPZwzMxTgI-",
    "outputId": "09082083-fcaf-4d83-b67c-19b826e38607"
   },
   "outputs": [
    {
     "name": "stdout",
     "output_type": "stream",
     "text": [
      "Sample mean of IT ratings = 45.3\n",
      "Sample mean of Finance ratings = 65.2\n",
      "Sample variance of IT ratings = 894.9\n",
      "Sample variance of Finance ratings = 411.0666666666666\n",
      "Sample size of IT ratings = 10\n",
      "Sample size of Finance ratings = 10\n",
      "Degrees of freedom = 18\n"
     ]
    }
   ],
   "source": [
    "import statistics as st\n",
    "Batch_1Sample_data=[9,9,9,36,45,51,57,69,72,96]\n",
    "Batch_2Sample_data =[60,39,39,60,79,96,69,75,45,90]\n",
    "x1=st.mean(Batch_1Sample_data)\n",
    "x2=st.mean(Batch_2Sample_data)\n",
    "v1=(st.stdev(Batch_1Sample_data))**2\n",
    "v2=(st.stdev(Batch_2Sample_data))**2\n",
    "n1=len(Batch_1Sample_data)\n",
    "n2=len(Batch_2Sample_data)\n",
    "df= n1+n2-2\n",
    "print(\"Sample mean of IT ratings =\",x1)\n",
    "print(\"Sample mean of Finance ratings =\",x2)\n",
    "print(\"Sample variance of IT ratings =\",v1)\n",
    "print(\"Sample variance of Finance ratings =\",v2)\n",
    "print(\"Sample size of IT ratings =\",n1)\n",
    "print(\"Sample size of Finance ratings =\",n2)\n",
    "print('Degrees of freedom =',df)"
   ]
  },
  {
   "cell_type": "code",
   "execution_count": 23,
   "metadata": {
    "colab": {
     "base_uri": "https://localhost:8080/"
    },
    "id": "g3b20J_KT8JH",
    "outputId": "43c3fa3a-ea1e-4263-a882-70f616c8d141"
   },
   "outputs": [
    {
     "name": "stdout",
     "output_type": "stream",
     "text": [
      "t-statistic = 0.41044103846592445\n",
      "The p_value is =  0.6863267719809107\n",
      "t-critical = 2.10092204024096\n"
     ]
    }
   ],
   "source": [
    "import math\n",
    "from scipy.stats import t\n",
    "signal = abs(x1-x2)\n",
    "noise = math.sqrt(v1*(n1-1) + v2*(n2-1))*math.sqrt(1/n1 + 1/n2)\n",
    "t_statistic=signal/noise\n",
    "print('t-statistic =',t_statistic)\n",
    "\n",
    "p_value=t.sf(abs(t_statistic),df)*2\n",
    "print(\"The p_value is = \", p_value)\n",
    "\n",
    "t_critical = t.ppf(1-0.025, df)\n",
    "print('t-critical =',t_critical)"
   ]
  },
  {
   "cell_type": "code",
   "execution_count": 25,
   "metadata": {
    "id": "jmE-E_pDUKsa"
   },
   "outputs": [
    {
     "data": {
      "text/plain": [
       "'As per, decision rule:\\ni. p_value < alpha : Rejection of Null Hypothesis (H0)\\nii. If -t-critical > t-statistic > +t-critical : Rejection of Null Hypothesis(H0)\\nIn our study,\\np_value=0.9859 > alpha=0.05, which leads to acceptance of Null Hypothesis\\nt_statistic=0.0178 < t-critical=2.10, which leads to acceptance of Null Hypothesis.'"
      ]
     },
     "execution_count": 25,
     "metadata": {},
     "output_type": "execute_result"
    }
   ],
   "source": [
    "'''As per, decision rule:\n",
    "i. p_value < alpha : Rejection of Null Hypothesis (H0)\n",
    "ii. If -t-critical > t-statistic > +t-critical : Rejection of Null Hypothesis(H0)\n",
    "In our study,\n",
    "p_value=0.9859 > alpha=0.05, which leads to acceptance of Null Hypothesis\n",
    "t_statistic=0.0178 < t-critical=2.10, which leads to acceptance of Null Hypothesis.'''"
   ]
  },
  {
   "cell_type": "code",
   "execution_count": 27,
   "metadata": {
    "colab": {
     "base_uri": "https://localhost:8080/",
     "height": 472
    },
    "id": "yX8WPAQGVRXc",
    "outputId": "9d157247-656e-4221-a63e-2dca37abad4a"
   },
   "outputs": [
    {
     "data": {
      "image/png": "[encoded data removed]",
      "text/plain": [
       "<Figure size 640x480 with 1 Axes>"
      ]
     },
     "metadata": {},
     "output_type": "display_data"
    }
   ],
   "source": [
    "import matplotlib.pyplot as plt\n",
    "import numpy as np\n",
    "from scipy.stats import t\n",
    "\n",
    "# Parameters\n",
    "alpha = 0.1  # Significance level\n",
    "df = 18      # Degrees of freedom\n",
    "t_stat = 0.4104 # Calculated t-statistic\n",
    "\n",
    "# Generate x-axis values\n",
    "x = np.linspace(-4, 4, 100)\n",
    "\n",
    "# Calculate the t-distribution probability density function (PDF)\n",
    "pdf = t.pdf(x, df)\n",
    "\n",
    "# Plot the t-distribution\n",
    "plt.plot(x, pdf)\n",
    "\n",
    "# Shade the critical regions\n",
    "x_critical = t.ppf([alpha/2, 1-alpha/2], df)\n",
    "plt.fill_between(x, 0, pdf, where=(x < x_critical[0]) | (x > x_critical[1]), color='gray', alpha=0.5)\n",
    "\n",
    "# Plot the calculated t-statistic\n",
    "plt.axvline(x=t_stat, color='red', linestyle='--', label='Calculated t-statistic')\n",
    "\n",
    "# Add labels and title\n",
    "plt.xlabel('t-value')\n",
    "plt.ylabel('Probability Density')\n",
    "plt.title('t-distribution with α = 0.10 and df = 20')\n",
    "plt.legend()\n",
    "\n",
    "plt.show()\n"
   ]
  },
  {
   "cell_type": "code",
   "execution_count": 29,
   "metadata": {
    "id": "surxF4t4Uq_y"
   },
   "outputs": [],
   "source": [
    "#Business Decision: There is no significant difference in the average ratings of the two bathches student scores\n"
   ]
  },
  {
   "cell_type": "code",
   "execution_count": null,
   "metadata": {},
   "outputs": [],
   "source": []
  }
 ],
 "metadata": {
  "colab": {
   "provenance": []
  },
  "kernelspec": {
   "display_name": "Python 3 (ipykernel)",
   "language": "python",
   "name": "python3"
  },
  "language_info": {
   "codemirror_mode": {
    "name": "ipython",
    "version": 3
   },
   "file_extension": ".py",
   "mimetype": "text/x-python",
   "name": "python",
   "nbconvert_exporter": "python",
   "pygments_lexer": "ipython3",
   "version": "3.12.4"
  }
 },
 "nbformat": 4,
 "nbformat_minor": 4
}
